{
 "cells": [
  {
   "cell_type": "markdown",
   "metadata": {},
   "source": [
    "### Small exploration of Airplane Crash dataset."
   ]
  },
  {
   "cell_type": "code",
   "execution_count": 37,
   "metadata": {},
   "outputs": [],
   "source": [
    "import warnings\n",
    "warnings.filterwarnings('ignore')\n",
    "import pandas as pd\n",
    "import numpy as np\n",
    "import matplotlib.pyplot as plt\n",
    "import seaborn as sns\n",
    "%matplotlib inline"
   ]
  },
  {
   "cell_type": "markdown",
   "metadata": {},
   "source": [
    "### Read the CSV file named \"airplane_crash.csv\" in the data folder and assign it to a dataframe called accident.\n",
    "\n",
    "### Next, drop the column Summary."
   ]
  },
  {
   "cell_type": "code",
   "execution_count": 30,
   "metadata": {},
   "outputs": [],
   "source": [
    "accident = pd.read_csv(\"airplane_crash.csv\")\n",
    "accident = accident.drop(['Summary'], axis = 1)"
   ]
  },
  {
   "cell_type": "code",
   "execution_count": 31,
   "metadata": {},
   "outputs": [
    {
     "data": {
      "text/html": [
       "<div>\n",
       "<style scoped>\n",
       "    .dataframe tbody tr th:only-of-type {\n",
       "        vertical-align: middle;\n",
       "    }\n",
       "\n",
       "    .dataframe tbody tr th {\n",
       "        vertical-align: top;\n",
       "    }\n",
       "\n",
       "    .dataframe thead th {\n",
       "        text-align: right;\n",
       "    }\n",
       "</style>\n",
       "<table border=\"1\" class=\"dataframe\">\n",
       "  <thead>\n",
       "    <tr style=\"text-align: right;\">\n",
       "      <th></th>\n",
       "      <th>Date</th>\n",
       "      <th>Time</th>\n",
       "      <th>Location</th>\n",
       "      <th>Operator</th>\n",
       "      <th>Flight #</th>\n",
       "      <th>Route</th>\n",
       "      <th>Type</th>\n",
       "      <th>Registration</th>\n",
       "      <th>cn/In</th>\n",
       "      <th>Aboard</th>\n",
       "      <th>Fatalities</th>\n",
       "      <th>Ground</th>\n",
       "    </tr>\n",
       "  </thead>\n",
       "  <tbody>\n",
       "    <tr>\n",
       "      <th>0</th>\n",
       "      <td>9/17/1908</td>\n",
       "      <td>17:18</td>\n",
       "      <td>Fort Myer, Virginia</td>\n",
       "      <td>Military - U.S. Army</td>\n",
       "      <td>NaN</td>\n",
       "      <td>Demonstration</td>\n",
       "      <td>Wright Flyer III</td>\n",
       "      <td>NaN</td>\n",
       "      <td>1</td>\n",
       "      <td>2.0</td>\n",
       "      <td>1.0</td>\n",
       "      <td>0.0</td>\n",
       "    </tr>\n",
       "    <tr>\n",
       "      <th>1</th>\n",
       "      <td>7/12/1912</td>\n",
       "      <td>6:30</td>\n",
       "      <td>AtlantiCity, New Jersey</td>\n",
       "      <td>Military - U.S. Navy</td>\n",
       "      <td>NaN</td>\n",
       "      <td>Test flight</td>\n",
       "      <td>Dirigible</td>\n",
       "      <td>NaN</td>\n",
       "      <td>NaN</td>\n",
       "      <td>5.0</td>\n",
       "      <td>5.0</td>\n",
       "      <td>0.0</td>\n",
       "    </tr>\n",
       "    <tr>\n",
       "      <th>2</th>\n",
       "      <td>8/6/1913</td>\n",
       "      <td>NaN</td>\n",
       "      <td>Victoria, British Columbia, Canada</td>\n",
       "      <td>Private</td>\n",
       "      <td>-</td>\n",
       "      <td>NaN</td>\n",
       "      <td>Curtiss seaplane</td>\n",
       "      <td>NaN</td>\n",
       "      <td>NaN</td>\n",
       "      <td>1.0</td>\n",
       "      <td>1.0</td>\n",
       "      <td>0.0</td>\n",
       "    </tr>\n",
       "    <tr>\n",
       "      <th>3</th>\n",
       "      <td>9/9/1913</td>\n",
       "      <td>18:30</td>\n",
       "      <td>Over the North Sea</td>\n",
       "      <td>Military - German Navy</td>\n",
       "      <td>NaN</td>\n",
       "      <td>NaN</td>\n",
       "      <td>Zeppelin L-1 (airship)</td>\n",
       "      <td>NaN</td>\n",
       "      <td>NaN</td>\n",
       "      <td>20.0</td>\n",
       "      <td>14.0</td>\n",
       "      <td>0.0</td>\n",
       "    </tr>\n",
       "    <tr>\n",
       "      <th>4</th>\n",
       "      <td>10/17/1913</td>\n",
       "      <td>10:30</td>\n",
       "      <td>Near Johannisthal, Germany</td>\n",
       "      <td>Military - German Navy</td>\n",
       "      <td>NaN</td>\n",
       "      <td>NaN</td>\n",
       "      <td>Zeppelin L-2 (airship)</td>\n",
       "      <td>NaN</td>\n",
       "      <td>NaN</td>\n",
       "      <td>30.0</td>\n",
       "      <td>30.0</td>\n",
       "      <td>0.0</td>\n",
       "    </tr>\n",
       "    <tr>\n",
       "      <th>5</th>\n",
       "      <td>3/5/1915</td>\n",
       "      <td>1:00</td>\n",
       "      <td>Tienen, Belgium</td>\n",
       "      <td>Military - German Navy</td>\n",
       "      <td>NaN</td>\n",
       "      <td>NaN</td>\n",
       "      <td>Zeppelin L-8 (airship)</td>\n",
       "      <td>NaN</td>\n",
       "      <td>NaN</td>\n",
       "      <td>41.0</td>\n",
       "      <td>21.0</td>\n",
       "      <td>0.0</td>\n",
       "    </tr>\n",
       "    <tr>\n",
       "      <th>6</th>\n",
       "      <td>9/3/1915</td>\n",
       "      <td>15:20</td>\n",
       "      <td>Off Cuxhaven, Germany</td>\n",
       "      <td>Military - German Navy</td>\n",
       "      <td>NaN</td>\n",
       "      <td>NaN</td>\n",
       "      <td>Zeppelin L-10 (airship)</td>\n",
       "      <td>NaN</td>\n",
       "      <td>NaN</td>\n",
       "      <td>19.0</td>\n",
       "      <td>19.0</td>\n",
       "      <td>0.0</td>\n",
       "    </tr>\n",
       "    <tr>\n",
       "      <th>7</th>\n",
       "      <td>7/28/1916</td>\n",
       "      <td>NaN</td>\n",
       "      <td>Near Jambol, Bulgeria</td>\n",
       "      <td>Military - German Army</td>\n",
       "      <td>NaN</td>\n",
       "      <td>NaN</td>\n",
       "      <td>Schutte-Lanz S-L-10 (airship)</td>\n",
       "      <td>NaN</td>\n",
       "      <td>NaN</td>\n",
       "      <td>20.0</td>\n",
       "      <td>20.0</td>\n",
       "      <td>0.0</td>\n",
       "    </tr>\n",
       "    <tr>\n",
       "      <th>8</th>\n",
       "      <td>9/24/1916</td>\n",
       "      <td>1:00</td>\n",
       "      <td>Billericay, England</td>\n",
       "      <td>Military - German Navy</td>\n",
       "      <td>NaN</td>\n",
       "      <td>NaN</td>\n",
       "      <td>Zeppelin L-32 (airship)</td>\n",
       "      <td>NaN</td>\n",
       "      <td>NaN</td>\n",
       "      <td>22.0</td>\n",
       "      <td>22.0</td>\n",
       "      <td>0.0</td>\n",
       "    </tr>\n",
       "    <tr>\n",
       "      <th>9</th>\n",
       "      <td>10/1/1916</td>\n",
       "      <td>23:45</td>\n",
       "      <td>Potters Bar, England</td>\n",
       "      <td>Military - German Navy</td>\n",
       "      <td>NaN</td>\n",
       "      <td>NaN</td>\n",
       "      <td>Zeppelin L-31 (airship)</td>\n",
       "      <td>NaN</td>\n",
       "      <td>NaN</td>\n",
       "      <td>19.0</td>\n",
       "      <td>19.0</td>\n",
       "      <td>0.0</td>\n",
       "    </tr>\n",
       "  </tbody>\n",
       "</table>\n",
       "</div>"
      ],
      "text/plain": [
       "         Date   Time                            Location  \\\n",
       "0   9/17/1908  17:18                 Fort Myer, Virginia   \n",
       "1   7/12/1912   6:30             AtlantiCity, New Jersey   \n",
       "2    8/6/1913    NaN  Victoria, British Columbia, Canada   \n",
       "3    9/9/1913  18:30                  Over the North Sea   \n",
       "4  10/17/1913  10:30          Near Johannisthal, Germany   \n",
       "5    3/5/1915   1:00                     Tienen, Belgium   \n",
       "6    9/3/1915  15:20               Off Cuxhaven, Germany   \n",
       "7   7/28/1916    NaN               Near Jambol, Bulgeria   \n",
       "8   9/24/1916   1:00                 Billericay, England   \n",
       "9   10/1/1916  23:45                Potters Bar, England   \n",
       "\n",
       "                 Operator Flight #          Route  \\\n",
       "0    Military - U.S. Army      NaN  Demonstration   \n",
       "1    Military - U.S. Navy      NaN    Test flight   \n",
       "2                 Private        -            NaN   \n",
       "3  Military - German Navy      NaN            NaN   \n",
       "4  Military - German Navy      NaN            NaN   \n",
       "5  Military - German Navy      NaN            NaN   \n",
       "6  Military - German Navy      NaN            NaN   \n",
       "7  Military - German Army      NaN            NaN   \n",
       "8  Military - German Navy      NaN            NaN   \n",
       "9  Military - German Navy      NaN            NaN   \n",
       "\n",
       "                            Type Registration cn/In  Aboard  Fatalities  \\\n",
       "0               Wright Flyer III          NaN     1     2.0         1.0   \n",
       "1                      Dirigible          NaN   NaN     5.0         5.0   \n",
       "2               Curtiss seaplane          NaN   NaN     1.0         1.0   \n",
       "3         Zeppelin L-1 (airship)          NaN   NaN    20.0        14.0   \n",
       "4         Zeppelin L-2 (airship)          NaN   NaN    30.0        30.0   \n",
       "5         Zeppelin L-8 (airship)          NaN   NaN    41.0        21.0   \n",
       "6        Zeppelin L-10 (airship)          NaN   NaN    19.0        19.0   \n",
       "7  Schutte-Lanz S-L-10 (airship)          NaN   NaN    20.0        20.0   \n",
       "8        Zeppelin L-32 (airship)          NaN   NaN    22.0        22.0   \n",
       "9        Zeppelin L-31 (airship)          NaN   NaN    19.0        19.0   \n",
       "\n",
       "   Ground  \n",
       "0     0.0  \n",
       "1     0.0  \n",
       "2     0.0  \n",
       "3     0.0  \n",
       "4     0.0  \n",
       "5     0.0  \n",
       "6     0.0  \n",
       "7     0.0  \n",
       "8     0.0  \n",
       "9     0.0  "
      ]
     },
     "execution_count": 31,
     "metadata": {},
     "output_type": "execute_result"
    }
   ],
   "source": [
    "accident.head(10)"
   ]
  },
  {
   "cell_type": "markdown",
   "metadata": {},
   "source": [
    "### Check for duplicate rows"
   ]
  },
  {
   "cell_type": "code",
   "execution_count": 25,
   "metadata": {},
   "outputs": [
    {
     "name": "stdout",
     "output_type": "stream",
     "text": [
      "Rows in duplicate dataframe: 10536\n",
      "Rows in duplicate-free dataframe: 5268\n"
     ]
    }
   ],
   "source": [
    "temp_accident = accident.append(accident)\n",
    "orig_accident = temp_accident.drop_duplicates(keep='last')\n",
    "print(\"Rows in duplicate dataframe: {}\".format(temp_accident.shape[0]))\n",
    "print(\"Rows in duplicate-free dataframe: {}\".format(orig_accident.shape[0]))"
   ]
  },
  {
   "cell_type": "markdown",
   "metadata": {},
   "source": [
    "### Fill missing values in Aboard column from orig_accident, using imputation"
   ]
  },
  {
   "cell_type": "code",
   "execution_count": 26,
   "metadata": {},
   "outputs": [
    {
     "name": "stdout",
     "output_type": "stream",
     "text": [
      "Average aboard people: 27.554517727792604\n"
     ]
    }
   ],
   "source": [
    "aboard_missing = orig_accident['Aboard']\n",
    "aboard_average = aboard_missing.mean()\n",
    "aboard_people = aboard_missing.fillna(aboard_average)\n",
    "\n",
    "print(\"Average aboard people: {}\".format(aboard_average))"
   ]
  },
  {
   "cell_type": "markdown",
   "metadata": {},
   "source": [
    "#### Find the error between the aboard people and fatalities in the dataset.\n",
    "\n",
    "#### Fill the missing values in the column Fatalities from orig_accident with the average value. Store the result as a Pandas.Series to fatal_count.\n",
    "\n",
    "#### Compute the MAE, MSE and RMSE between fatal_count and aboard_people.\n",
    "\n",
    "#### Save the result of each metric comparison into variables called crash_mae, crash_mse, and crash_rmse."
   ]
  },
  {
   "cell_type": "code",
   "execution_count": 27,
   "metadata": {},
   "outputs": [],
   "source": [
    "from sklearn import metrics\n",
    "\n",
    "fatal_count = orig_accident['Fatalities'].fillna(orig_accident['Fatalities'].mean())\n",
    "crash_mae = metrics.mean_absolute_error(aboard_people, fatal_count)\n",
    "crash_mse = metrics.mean_squared_error(aboard_people, fatal_count)\n",
    "crash_rmse = np.sqrt(metrics.mean_squared_error(aboard_people, fatal_count))"
   ]
  },
  {
   "cell_type": "code",
   "execution_count": 28,
   "metadata": {},
   "outputs": [
    {
     "name": "stdout",
     "output_type": "stream",
     "text": [
      "Missing values in fatal_count: 0\n",
      "MAE: 7.508783356084407\n",
      "MSE: 846.0385045810194\n",
      "RMSE: 29.086741044349047\n"
     ]
    }
   ],
   "source": [
    "print(\"Missing values in fatal_count: {}\".format(fatal_count.isnull().sum()))\n",
    "print(\"MAE: {}\".format(crash_mae))\n",
    "print(\"MSE: {}\".format(crash_mse))\n",
    "print(\"RMSE: {}\".format(crash_rmse))"
   ]
  },
  {
   "cell_type": "markdown",
   "metadata": {},
   "source": [
    "### Extracting areas of interest from the dataset.\n",
    "\n",
    "#### From the dataframe orig_accident, extract only the rows that have the value \"Zeppelin L-1 (airship)\" in the column. Assign the resulting array to the variable zep."
   ]
  },
  {
   "cell_type": "code",
   "execution_count": 32,
   "metadata": {},
   "outputs": [],
   "source": [
    "zep = orig_accident[orig_accident['Type'] == \"Zeppelin L-1 (airship)\"]"
   ]
  },
  {
   "cell_type": "code",
   "execution_count": 33,
   "metadata": {},
   "outputs": [
    {
     "data": {
      "text/html": [
       "<div>\n",
       "<style scoped>\n",
       "    .dataframe tbody tr th:only-of-type {\n",
       "        vertical-align: middle;\n",
       "    }\n",
       "\n",
       "    .dataframe tbody tr th {\n",
       "        vertical-align: top;\n",
       "    }\n",
       "\n",
       "    .dataframe thead th {\n",
       "        text-align: right;\n",
       "    }\n",
       "</style>\n",
       "<table border=\"1\" class=\"dataframe\">\n",
       "  <thead>\n",
       "    <tr style=\"text-align: right;\">\n",
       "      <th></th>\n",
       "      <th>Date</th>\n",
       "      <th>Time</th>\n",
       "      <th>Location</th>\n",
       "      <th>Operator</th>\n",
       "      <th>Flight #</th>\n",
       "      <th>Route</th>\n",
       "      <th>Type</th>\n",
       "      <th>Registration</th>\n",
       "      <th>cn/In</th>\n",
       "      <th>Aboard</th>\n",
       "      <th>Fatalities</th>\n",
       "      <th>Ground</th>\n",
       "    </tr>\n",
       "  </thead>\n",
       "  <tbody>\n",
       "    <tr>\n",
       "      <th>3</th>\n",
       "      <td>9/9/1913</td>\n",
       "      <td>18:30</td>\n",
       "      <td>Over the North Sea</td>\n",
       "      <td>Military - German Navy</td>\n",
       "      <td>NaN</td>\n",
       "      <td>NaN</td>\n",
       "      <td>Zeppelin L-1 (airship)</td>\n",
       "      <td>NaN</td>\n",
       "      <td>NaN</td>\n",
       "      <td>20.0</td>\n",
       "      <td>14.0</td>\n",
       "      <td>0.0</td>\n",
       "    </tr>\n",
       "  </tbody>\n",
       "</table>\n",
       "</div>"
      ],
      "text/plain": [
       "       Date   Time            Location                Operator Flight # Route  \\\n",
       "3  9/9/1913  18:30  Over the North Sea  Military - German Navy      NaN   NaN   \n",
       "\n",
       "                     Type Registration cn/In  Aboard  Fatalities  Ground  \n",
       "3  Zeppelin L-1 (airship)          NaN   NaN    20.0        14.0     0.0  "
      ]
     },
     "execution_count": 33,
     "metadata": {},
     "output_type": "execute_result"
    }
   ],
   "source": [
    "zep"
   ]
  },
  {
   "cell_type": "code",
   "execution_count": 34,
   "metadata": {},
   "outputs": [
    {
     "data": {
      "text/plain": [
       "<bound method DataFrame.info of        Date   Time            Location                Operator Flight # Route  \\\n",
       "3  9/9/1913  18:30  Over the North Sea  Military - German Navy      NaN   NaN   \n",
       "\n",
       "                     Type Registration cn/In  Aboard  Fatalities  Ground  \n",
       "3  Zeppelin L-1 (airship)          NaN   NaN    20.0        14.0     0.0  >"
      ]
     },
     "execution_count": 34,
     "metadata": {},
     "output_type": "execute_result"
    }
   ],
   "source": [
    "zep.info"
   ]
  },
  {
   "cell_type": "code",
   "execution_count": 36,
   "metadata": {},
   "outputs": [
    {
     "data": {
      "text/plain": [
       "<bound method DataFrame.count of        Date   Time            Location                Operator Flight # Route  \\\n",
       "3  9/9/1913  18:30  Over the North Sea  Military - German Navy      NaN   NaN   \n",
       "\n",
       "                     Type Registration cn/In  Aboard  Fatalities  Ground  \n",
       "3  Zeppelin L-1 (airship)          NaN   NaN    20.0        14.0     0.0  >"
      ]
     },
     "execution_count": 36,
     "metadata": {},
     "output_type": "execute_result"
    }
   ],
   "source": [
    "zep.count"
   ]
  }
 ],
 "metadata": {
  "kernelspec": {
   "display_name": "Python 3",
   "language": "python",
   "name": "python3"
  },
  "language_info": {
   "codemirror_mode": {
    "name": "ipython",
    "version": 3
   },
   "file_extension": ".py",
   "mimetype": "text/x-python",
   "name": "python",
   "nbconvert_exporter": "python",
   "pygments_lexer": "ipython3",
   "version": "3.8.5"
  }
 },
 "nbformat": 4,
 "nbformat_minor": 4
}
